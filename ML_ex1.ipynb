{
  "nbformat": 4,
  "nbformat_minor": 0,
  "metadata": {
    "colab": {
      "name": "ML_ex1.ipynb",
      "provenance": [],
      "authorship_tag": "ABX9TyPtJZPA5dcbpIvnqvVXSIBt",
      "include_colab_link": true
    },
    "kernelspec": {
      "name": "python3",
      "display_name": "Python 3"
    },
    "language_info": {
      "name": "python"
    }
  },
  "cells": [
    {
      "cell_type": "markdown",
      "metadata": {
        "id": "view-in-github",
        "colab_type": "text"
      },
      "source": [
        "<a href=\"https://colab.research.google.com/github/GabrielPelosi/data-analysis/blob/main/ML_ex1.ipynb\" target=\"_parent\"><img src=\"https://colab.research.google.com/assets/colab-badge.svg\" alt=\"Open In Colab\"/></a>"
      ]
    },
    {
      "cell_type": "code",
      "execution_count": 3,
      "metadata": {
        "id": "iT5hLxH_uhIp"
      },
      "outputs": [],
      "source": [
        "\n",
        "\n",
        "# tem 4 patas\n",
        "# tem rabo\n",
        "# ladra\n",
        "\n",
        "gato1 = [1,1,0]\n",
        "gato2 = [0,0,0]\n",
        "\n",
        "cachorro1 = [1,1,1]\n",
        "cachorro2 = [0,0,1]\n",
        "\n",
        "treino_x = [gato1,gato2,cachorro1,cachorro2]\n",
        "# 1 é gato, 0 é cachorro\n",
        "treino_y = [1,1,0,0]\n",
        "\n"
      ]
    },
    {
      "cell_type": "code",
      "source": [
        "from sklearn.svm import LinearSVC\n",
        "\n",
        "modelo = LinearSVC()\n",
        "\n",
        "modelo.fit(treino_x,treino_y)"
      ],
      "metadata": {
        "colab": {
          "base_uri": "https://localhost:8080/"
        },
        "id": "k6V6YF3xdM0y",
        "outputId": "d60548d3-6383-46d6-e346-9e9f009a8c0f"
      },
      "execution_count": 5,
      "outputs": [
        {
          "output_type": "execute_result",
          "data": {
            "text/plain": [
              "LinearSVC()"
            ]
          },
          "metadata": {},
          "execution_count": 5
        }
      ]
    },
    {
      "cell_type": "code",
      "source": [
        "misterio = [0,1,1]\n",
        "modelo.predict([misterio])"
      ],
      "metadata": {
        "colab": {
          "base_uri": "https://localhost:8080/"
        },
        "id": "4ERNMrbIdzc4",
        "outputId": "602a0931-c623-4498-aba2-55b218f35b4a"
      },
      "execution_count": 6,
      "outputs": [
        {
          "output_type": "execute_result",
          "data": {
            "text/plain": [
              "array([0])"
            ]
          },
          "metadata": {},
          "execution_count": 6
        }
      ]
    },
    {
      "cell_type": "code",
      "source": [
        "misterio2 = [0,1,0]\n",
        "modelo.predict([misterio2])\n"
      ],
      "metadata": {
        "colab": {
          "base_uri": "https://localhost:8080/"
        },
        "id": "gID9wSdFdzi4",
        "outputId": "1ebbb1fe-1c17-4204-e300-aab06ad6c0bf"
      },
      "execution_count": 7,
      "outputs": [
        {
          "output_type": "execute_result",
          "data": {
            "text/plain": [
              "array([1])"
            ]
          },
          "metadata": {},
          "execution_count": 7
        }
      ]
    },
    {
      "cell_type": "code",
      "source": [
        ""
      ],
      "metadata": {
        "id": "8IKk34BpeSbW"
      },
      "execution_count": null,
      "outputs": []
    }
  ]
}